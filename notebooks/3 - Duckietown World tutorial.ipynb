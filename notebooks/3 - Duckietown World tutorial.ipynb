{
 "cells": [
  {
   "cell_type": "markdown",
   "metadata": {
    "deletable": true,
    "editable": true
   },
   "source": [
    "# Duckietown World tutorial\n",
    "\n",
    "The package `duckietown_world` implements the map representation for the \n",
    "Duckeietown World."
   ]
  },
  {
   "cell_type": "code",
   "execution_count": 0,
   "metadata": {
    "collapsed": false,
    "deletable": true,
    "editable": true,
    "scrolled": false
   },
   "outputs": [],
   "source": [
    "import duckietown_world as dw"
   ]
  },
  {
   "cell_type": "code",
   "execution_count": 0,
   "metadata": {
    "collapsed": false,
    "deletable": true,
    "editable": true
   },
   "outputs": [],
   "source": [
    "import logging\n",
    "dw.logger.setLevel(logging.CRITICAL)"
   ]
  },
  {
   "cell_type": "markdown",
   "metadata": {
    "deletable": true,
    "editable": true
   },
   "source": [
    "## Listing available maps"
   ]
  },
  {
   "cell_type": "code",
   "execution_count": 0,
   "metadata": {
    "collapsed": false,
    "deletable": true,
    "editable": true
   },
   "outputs": [],
   "source": [
    "dw.list_maps()"
   ]
  },
  {
   "cell_type": "markdown",
   "metadata": {
    "deletable": true,
    "editable": true
   },
   "source": [
    "## Loading a map"
   ]
  },
  {
   "cell_type": "markdown",
   "metadata": {
    "deletable": true,
    "editable": true
   },
   "source": [
    "Use `load_map` to load a map:"
   ]
  },
  {
   "cell_type": "code",
   "execution_count": 0,
   "metadata": {
    "collapsed": false,
    "deletable": true,
    "editable": true
   },
   "outputs": [],
   "source": [
    "m = dw.load_map('4way')\n",
    "print(m)"
   ]
  },
  {
   "cell_type": "markdown",
   "metadata": {
    "deletable": true,
    "editable": true
   },
   "source": [
    "Later, we will see what is inside a map."
   ]
  },
  {
   "cell_type": "markdown",
   "metadata": {
    "deletable": true,
    "editable": true
   },
   "source": [
    "## Drawing a map\n",
    "\n",
    "We define this utility function to draw the map: "
   ]
  },
  {
   "cell_type": "code",
   "execution_count": 0,
   "metadata": {
    "collapsed": false,
    "deletable": true,
    "editable": true
   },
   "outputs": [],
   "source": [
    "import os\n",
    "def draw_static_map(m, outdir=None):\n",
    "    if outdir is None:\n",
    "        outdir = 'out-draw_static_map/%s' % id(m)\n",
    "    dw.draw_static(m, outdir);\n",
    "    from IPython.core.display import SVG\n",
    "    return SVG(os.path.join(outdir, 'drawing.svg'))"
   ]
  },
  {
   "cell_type": "code",
   "execution_count": 0,
   "metadata": {
    "collapsed": false,
    "deletable": true,
    "editable": true
   },
   "outputs": [],
   "source": [
    "draw_static_map(m)"
   ]
  },
  {
   "cell_type": "markdown",
   "metadata": {
    "deletable": true,
    "editable": true
   },
   "source": [
    "## Display all the maps available\n"
   ]
  },
  {
   "cell_type": "code",
   "execution_count": 0,
   "metadata": {
    "collapsed": false,
    "deletable": true,
    "editable": true,
    "scrolled": false
   },
   "outputs": [],
   "source": [
    "import IPython;\n",
    "for map_name in dw.list_maps():\n",
    "    m1 = dw.load_map(map_name)\n",
    "    image = draw_static_map(m1, map_name)\n",
    "    print(map_name)\n",
    "    IPython.display.display_svg(image)\n"
   ]
  },
  {
   "cell_type": "markdown",
   "metadata": {
    "deletable": true,
    "editable": true
   },
   "source": [
    "## Creating new maps\n",
    "\n",
    "Look for the '*.yaml' files in `duckietown_world` to get examples of data format.\n",
    "\n",
    "You can also define a new map \"inline\":"
   ]
  },
  {
   "cell_type": "code",
   "execution_count": 0,
   "metadata": {
    "collapsed": false,
    "deletable": true,
    "editable": true,
    "scrolled": true
   },
   "outputs": [],
   "source": [
    "map_data_yaml = \"\"\"\n",
    "\n",
    "# 3x3 tiles with left turns at the corners going in a counter-clockwise loop\n",
    "tiles:\n",
    "- [curve_left/W , straight/W, curve_left/N]\n",
    "- [straight/S   , asphalt   , straight/N]\n",
    "- [curve_left/S , straight/E, curve_left/E]\n",
    "\n",
    "\n",
    "\"\"\"\n",
    "\n",
    "import yaml\n",
    "\n",
    "map_data = yaml.load(map_data_yaml)\n",
    "\n",
    "m = dw.construct_map(map_data, tile_size=0.61)\n",
    "\n",
    "draw_static_map(m, 'mymap')"
   ]
  },
  {
   "cell_type": "markdown",
   "metadata": {
    "deletable": true,
    "editable": true
   },
   "source": [
    "## Available tiles"
   ]
  },
  {
   "cell_type": "code",
   "execution_count": 0,
   "metadata": {
    "collapsed": false,
    "deletable": true,
    "editable": true
   },
   "outputs": [],
   "source": [
    "map_data_yaml = \"\"\"\n",
    "\n",
    "# 3x3 tiles with left turns at the corners going in a counter-clockwise loop\n",
    "tiles:\n",
    "- [straight/N, straight/W, straight/N, straight/E]\n",
    "- [curve_left/N, curve_left/W, curve_left/N, curve_left/E]\n",
    "- [curve_right/N, curve_right/W, curve_right/N, curve_right/E]\n",
    "- [4way/N, 4way/W, 4way/N, 4way/E]\n",
    "- [3way_left/N, 3way_left/W, 3way_left/N, 3way_left/E]\n",
    "- [3way_right/N, 3way_right/W, 3way_right/N, 3way_right/E]\n",
    "\n",
    "\n",
    "\"\"\"\n",
    "\n",
    "import yaml\n",
    "\n",
    "map_data = yaml.load(map_data_yaml)\n",
    "\n",
    "m = dw.construct_map(map_data, tile_size=0.61)\n",
    "\n",
    "draw_static_map(m, 'mymap')"
   ]
  }
 ],
 "metadata": {
  "kernelspec": {
   "display_name": "Python 2",
   "language": "python",
   "name": "python2"
  },
  "language_info": {
   "codemirror_mode": {
    "name": "ipython",
    "version": 2
   },
   "file_extension": ".py",
   "mimetype": "text/x-python",
   "name": "python",
   "nbconvert_exporter": "python",
   "pygments_lexer": "ipython2",
   "version": "2.7.11"
  }
 },
 "nbformat": 4,
 "nbformat_minor": 2
}