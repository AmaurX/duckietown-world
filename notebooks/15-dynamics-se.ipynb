{
 "cells": [
  {
   "cell_type": "markdown",
   "metadata": {},
   "source": [
    "# Dynamics tutorial"
   ]
  },
  {
   "cell_type": "markdown",
   "metadata": {},
   "source": [
    "## Packages\n",
    "\n",
    "We will use the `contracts` and `six` libraries to create the classes,\n",
    "as well as all previously introduced libraries.\n"
   ]
  },
  {
   "cell_type": "code",
   "execution_count": 142,
   "metadata": {},
   "outputs": [],
   "source": [
    "from abc import ABCMeta, abstractmethod\n",
    "\n",
    "from contracts import contract, check_isinstance\n",
    "from six import with_metaclass\n",
    "\n",
    "from duckietown_serialization_ds1 import Serializable\n",
    "\n",
    "import geometry as geo\n",
    "import numpy as np\n",
    "\n",
    "# from generic_kinematics.py\n",
    "from geometry.poses import *"
   ]
  },
  {
   "cell_type": "markdown",
   "metadata": {},
   "source": [
    "# Abstract classes\n",
    "\n",
    "In `duckietown-world` there is an interface for the dynamics of a platform. The interface is:"
   ]
  },
  {
   "cell_type": "code",
   "execution_count": 143,
   "metadata": {},
   "outputs": [],
   "source": [
    "class PlatformDynamics(with_metaclass(ABCMeta)):\n",
    "    \"\"\"\n",
    "        This class represents the state of a dynamical system.\n",
    "\n",
    "\n",
    "            s0 = ...\n",
    "\n",
    "            s1 = s0.integrate(dt=0.1, commands=[1,1])\n",
    "            s2 = s0.integrate(dt=0.1, commands=[1,1])\n",
    "\n",
    "\n",
    "        Each subclass has its own representation of commands.\n",
    "\n",
    "    \"\"\"\n",
    "\n",
    "    @abstractmethod\n",
    "    @contract(dt='>0')\n",
    "    def integrate(self, dt, commands):\n",
    "        \"\"\"\n",
    "            Returns the result of applying commands for dt.\n",
    "\n",
    "            :param dt: time interval\n",
    "            :param commands: class-specific commands\n",
    "            :return: the next state\n",
    "        \"\"\"\n",
    "\n",
    "    @abstractmethod\n",
    "    @contract(returns='TSE2')\n",
    "    def TSE2_from_state(self):\n",
    "        \"\"\" Returns pose, velocity for the state. \"\"\"\n",
    "\n",
    "\n",
    "class PlatformDynamicsFactory(with_metaclass(ABCMeta)):\n",
    "\n",
    "    @classmethod\n",
    "    @abstractmethod\n",
    "    @contract(c0='TSE2', returns=PlatformDynamics)\n",
    "    def initialize(cls, c0, t0=0, seed=None):\n",
    "        \"\"\"\n",
    "            Returns the dynamics initalized at a certain configuration.\n",
    "\n",
    "            :param c0: configuration in TSE2\n",
    "            :param t0: time in which to sstart\n",
    "            :param seed: seed for a possible random number generator\n",
    "\n",
    "        \"\"\"\n"
   ]
  },
  {
   "cell_type": "markdown",
   "metadata": {},
   "source": [
    "## Generic Kinematics "
   ]
  },
  {
   "cell_type": "code",
   "execution_count": 144,
   "metadata": {},
   "outputs": [
    {
     "name": "stderr",
     "output_type": "stream",
     "text": [
      "DEBUG:dt-serialization:Registering class GenericKinematicsSE2\n"
     ]
    }
   ],
   "source": [
    "class GenericKinematicsSE2(PlatformDynamicsFactory, PlatformDynamics, Serializable):\n",
    "    \"\"\"\n",
    "        Any dynamics on SE(2)\n",
    "\n",
    "        Commands = velocities in se(2)\n",
    "    \"\"\"\n",
    "\n",
    "    @classmethod\n",
    "    @contract(c0='TSE2')\n",
    "    def initialize(cls, c0, t0=0, seed=None):\n",
    "        return GenericKinematicsSE2(c0, t0)\n",
    "\n",
    "    @contract(c0='TSE2')\n",
    "    def __init__(self, c0, t0):\n",
    "        # start at q0, v0\n",
    "        q0, v0 = c0\n",
    "        geo.SE2.belongs(q0)\n",
    "        geo.se2.belongs(v0)\n",
    "        self.t0 = t0\n",
    "        self.v0 = v0\n",
    "        self.q0 = q0\n",
    "\n",
    "    def integrate(self, dt, commands):\n",
    "        \"\"\" commands = velocity in body frame \"\"\"\n",
    "        # convert to float\n",
    "        dt = float(dt)\n",
    "        # the commands must belong to se(2)\n",
    "        geo.se2.belongs(commands)\n",
    "        v = commands\n",
    "        # suppose we hold v for dt, which pose are we going to?\n",
    "        diff = geo.SE2.group_from_algebra(dt * v) # exponential map\n",
    "        # compute the absolute new pose; applying diff from q0\n",
    "        q1 = geo.SE2.multiply(self.q0, diff)\n",
    "        # the new configuration\n",
    "        c1 = q1, v\n",
    "        # the new time\n",
    "        t1 = self.t0 + dt\n",
    "        # return the new state\n",
    "        return GenericKinematicsSE2(c1, t1)\n",
    "\n",
    "    @contract(returns='TSE2')\n",
    "    def TSE2_from_state(self):\n",
    "        return self.q0, self.v0"
   ]
  },
  {
   "cell_type": "markdown",
   "metadata": {},
   "source": [
    "### Model Parameters"
   ]
  },
  {
   "cell_type": "code",
   "execution_count": 145,
   "metadata": {},
   "outputs": [
    {
     "name": "stderr",
     "output_type": "stream",
     "text": [
      "DEBUG:dt-serialization:Registering class DynamicModelParameters\n"
     ]
    }
   ],
   "source": [
    "class DynamicModelParameters(PlatformDynamicsFactory, Serializable):\n",
    "    '''\n",
    "        This class represents the parameters of the ideal differential drive dynamics.\n",
    "\n",
    "        radius_left, radius_right: wheels radii\n",
    "        wheel_distance: distance between two wheels\n",
    "\n",
    "    '''\n",
    "\n",
    "    def __init__(self, u1, u2, u3, w1, w2, w3, uar, ual, war, wal):\n",
    "        # parameters for autonomous dynamics\n",
    "        self.u1 = u1\n",
    "        self.u2 = u2\n",
    "        self.u3 = u3\n",
    "        self.w1 = w1\n",
    "        self.w2 = w2\n",
    "        self.w3 = w3\n",
    "\n",
    "        # parameters for forced dynamics\n",
    "        self.u_alpha_r = uar\n",
    "        self.u_alpha_l = ual\n",
    "        self.w_alpha_r = war\n",
    "        self.w_alpha_l = wal\n",
    "\n",
    "    def initialize(self, c0, t0=0, seed=None):\n",
    "        return DifferentialDriveDynamics(self, c0, t0)"
   ]
  },
  {
   "cell_type": "markdown",
   "metadata": {},
   "source": [
    "### Wheel Commands"
   ]
  },
  {
   "cell_type": "code",
   "execution_count": 146,
   "metadata": {},
   "outputs": [
    {
     "name": "stderr",
     "output_type": "stream",
     "text": [
      "DEBUG:dt-serialization:Registering class WheelVelocityCommands\n"
     ]
    }
   ],
   "source": [
    "class WheelVelocityCommands(Serializable):\n",
    "    def __init__(self, left_wheel_angular_velocity, right_wheel_angular_velocity):\n",
    "        self.left_wheel_angular_velocity = left_wheel_angular_velocity\n",
    "        self.right_wheel_angular_velocity = right_wheel_angular_velocity"
   ]
  },
  {
   "cell_type": "markdown",
   "metadata": {},
   "source": [
    "### Differential Drive Dynamics"
   ]
  },
  {
   "cell_type": "code",
   "execution_count": 147,
   "metadata": {},
   "outputs": [
    {
     "name": "stderr",
     "output_type": "stream",
     "text": [
      "DEBUG:dt-serialization:Registering class DynamicModel\n"
     ]
    }
   ],
   "source": [
    "class DynamicModel(GenericKinematicsSE2):\n",
    "    \"\"\"\n",
    "        This represents a dynamical formulation of of a differential-drive vehicle.\n",
    "    \"\"\"\n",
    "\n",
    "    def __init__(self, parameters, c0, t0):\n",
    "        \"\"\"\n",
    "        :param parameters:  instance of DifferentialDriveDynamicsParameters\n",
    "        :param c0: initial configuration\n",
    "        :param t0: initial time\n",
    "        \"\"\"\n",
    "        check_isinstance(parameters, DynamicModelParameters)\n",
    "        self.parameters = parameters\n",
    "        GenericKinematicsSE2.__init__(self, c0, t0)\n",
    "\n",
    "    @staticmethod\n",
    "    def model(input, parameters, u=None, w=None):\n",
    "        ## Unpack Inputs\n",
    "        U = np.array([input.right_wheel_angular_velocity, input.left_wheel_angular_velocity])\n",
    "        V = U.reshape(U.size, 1)\n",
    "\n",
    "        ## Unpack Parameters\n",
    "        check_isinstance(parameters, DynamicModelParameters)\n",
    "        \n",
    "        # parameters for autonomous dynamics\n",
    "        u1 = parameters.u1\n",
    "        u2 = parameters.u2\n",
    "        u3 = parameters.u3\n",
    "        w1 = parameters.w1\n",
    "        w2 = parameters.w2\n",
    "        w3 = parameters.w3\n",
    "        # parameters for forced dynamics\n",
    "        u_alpha_r = parameters.u_alpha_r\n",
    "        u_alpha_l = parameters.u_alpha_l\n",
    "        w_alpha_r = parameters.w_alpha_r\n",
    "        w_alpha_l = parameters.w_alpha_l\n",
    "\n",
    "        ## Calculate Dynamics\n",
    "        # Nonlinear Dynamics - autonomous response\n",
    "        f_dynamic = np.array([\n",
    "            [-u1 * u - u2 * w + u3 * w ** 2],\n",
    "            [-w1 * w - w2 * u - w3 * u * w]\n",
    "        ])\n",
    "\n",
    "        # Input Matrix\n",
    "        B = np.array([\n",
    "            [u_alpha_r, u_alpha_l],\n",
    "            [w_alpha_r, -w_alpha_l]\n",
    "        ])\n",
    "        # Forced response\n",
    "        f_forced = np.matmul(B, V)\n",
    "\n",
    "        # acceleration\n",
    "        x_dot_dot = f_dynamic + f_forced\n",
    "\n",
    "        return x_dot_dot\n",
    "    \n",
    "    def integrate(self, dt, commands):\n",
    "        \"\"\"\n",
    "\n",
    "        :param dt:\n",
    "        :param commands: an instance of WheelVelocityCommands\n",
    "        :return:\n",
    "        \"\"\"\n",
    "        check_isinstance(commands, WheelVelocityCommands)\n",
    "        \n",
    "        # previous velocities \n",
    "        linear_angular_prev = linear_angular_from_se2(self.v0)\n",
    "        linear_prev = linear_angular_prev[0]\n",
    "        longit_prev = linear_prev[0]\n",
    "        lateral_prev = linear_prev[1]\n",
    "        angular_prev = linear_angular_prev[1]\n",
    "        \n",
    "        x_dot_dot = self.model(commands, parameters, u=longit_prev, w=angular_prev)\n",
    "        \n",
    "        ## first convert acceleration to velocity by forward euler\n",
    "        longitudinal = longit_prev + dt * x_dot_dot[0]\n",
    "        angular = angular_prev + dt * x_dot_dot[1]\n",
    "        lateral = 0.0\n",
    "        \n",
    "        linear = [longitudinal, lateral]\n",
    "        \n",
    "        # represent this as se(2)\n",
    "        commands_se2 = geo.se2_from_linear_angular(linear, angular)\n",
    "\n",
    "        # Call the \"integrate\" function of GenericKinematicsSE2\n",
    "        s1 = GenericKinematicsSE2.integrate(self, dt, commands_se2)\n",
    "\n",
    "        # new state\n",
    "        c1 = s1.q0, s1.v0\n",
    "        t1 = s1.t0\n",
    "        \n",
    "        return DynamicModel(self.parameters, c1, t1)\n",
    "    "
   ]
  },
  {
   "cell_type": "markdown",
   "metadata": {},
   "source": [
    "### Simulation"
   ]
  },
  {
   "cell_type": "code",
   "execution_count": 148,
   "metadata": {},
   "outputs": [
    {
     "name": "stdout",
     "output_type": "stream",
     "text": [
      "pose: [0. 0.]\n",
      "theta: 11.4591559026\n",
      "pose: [0. 0.]\n",
      "theta: 22.9183118052\n",
      "pose: [0. 0.]\n",
      "theta: 34.3774677078\n",
      "pose: [0. 0.]\n",
      "theta: 45.8366236105\n",
      "pose: [0. 0.]\n",
      "theta: 57.2957795131\n"
     ]
    }
   ],
   "source": [
    "# Model Parameters\n",
    "u2 = u3 = w1 = w2 = w3 = 0 # to simplify the model\n",
    "u1 = w1 = 1 # main contributor from unforced dynamics\n",
    "uar = ual = war = wal = 1 # input matrix\n",
    "\n",
    "parameters = DynamicModelParameters(u1, u2, u3, w1, w2, w3, uar, ual, war, wal)\n",
    "\n",
    "# initial configuration\n",
    "init_pose = np.array([0,0])\n",
    "init_vel = np.array([0,0])\n",
    "init_time = 0\n",
    "\n",
    "q0 = geo.SE2_from_R2(init_pose)\n",
    "v0 = geo.se2_from_linear_angular(init_vel, 0)\n",
    "c0 = q0, v0\n",
    "\n",
    "# starting time\n",
    "t0 = 0\n",
    "\n",
    "system = DynamicModel(parameters, c0, t0)\n",
    "\n",
    "del_t = 1\n",
    "\n",
    "for i in range(5):\n",
    "    # input = (left: -0.1, right: 0.1) must generate a counter-clockwise rotation (increasing theta)\n",
    "    myCarCommands = WheelVelocityCommands(-0.1, 0.1)\n",
    "    system = system.integrate(del_t, myCarCommands)\n",
    "    \n",
    "    current_p, theta = geo.translation_angle_from_SE2(system.q0)\n",
    "    \n",
    "    print('pose: {}'.format(current_p))\n",
    "    print('theta: {}'.format(np.rad2deg(theta)))\n",
    "    "
   ]
  },
  {
   "cell_type": "code",
   "execution_count": null,
   "metadata": {},
   "outputs": [],
   "source": []
  }
 ],
 "metadata": {
  "celltoolbar": "Raw Cell Format",
  "kernelspec": {
   "display_name": "Python 2",
   "language": "python",
   "name": "python2"
  },
  "language_info": {
   "codemirror_mode": {
    "name": "ipython",
    "version": 2
   },
   "file_extension": ".py",
   "mimetype": "text/x-python",
   "name": "python",
   "nbconvert_exporter": "python",
   "pygments_lexer": "ipython2",
   "version": "2.7.12"
  }
 },
 "nbformat": 4,
 "nbformat_minor": 2
}
