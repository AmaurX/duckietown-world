{
 "cells": [
  {
   "cell_type": "markdown",
   "metadata": {},
   "source": [
    "# Duckietown World tutorial\n",
    "\n",
    "The package `duckietown_world` implements the map representation for the \n",
    "Duckeietown World."
   ]
  },
  {
   "cell_type": "code",
   "execution_count": null,
   "metadata": {
    "collapsed": true
   },
   "outputs": [],
   "source": [
    "# disabling contracts for speed\n",
    "import contracts\n",
    "contracts.disable_all()"
   ]
  },
  {
   "cell_type": "code",
   "execution_count": null,
   "metadata": {
    "scrolled": false
   },
   "outputs": [],
   "source": [
    "import duckietown_world as dw"
   ]
  },
  {
   "cell_type": "code",
   "execution_count": null,
   "metadata": {},
   "outputs": [],
   "source": [
    "# reducing the verbosity to critical\n",
    "dw.logger.setLevel(50)"
   ]
  },
  {
   "cell_type": "markdown",
   "metadata": {},
   "source": [
    "\n",
    "## Listing available maps\n",
    "\n",
    "Function `list_maps` returns the list of maps:"
   ]
  },
  {
   "cell_type": "code",
   "execution_count": null,
   "metadata": {},
   "outputs": [],
   "source": [
    "dw.list_maps()"
   ]
  },
  {
   "cell_type": "markdown",
   "metadata": {},
   "source": [
    "## Loading a map"
   ]
  },
  {
   "cell_type": "markdown",
   "metadata": {},
   "source": [
    "Use `load_map` to load a map:"
   ]
  },
  {
   "cell_type": "code",
   "execution_count": null,
   "metadata": {},
   "outputs": [],
   "source": [
    "m = dw.load_map('4way')\n",
    "print(m)"
   ]
  },
  {
   "cell_type": "markdown",
   "metadata": {},
   "source": [
    "Later, we will see what is inside a map."
   ]
  },
  {
   "cell_type": "markdown",
   "metadata": {},
   "source": [
    "## Drawing a map\n",
    "\n",
    "We define this utility function to draw the map: "
   ]
  },
  {
   "cell_type": "code",
   "execution_count": null,
   "metadata": {},
   "outputs": [],
   "source": [
    "from duckietown_world.svg_drawing.ipython_utils import ipython_draw_svg"
   ]
  },
  {
   "cell_type": "code",
   "execution_count": null,
   "metadata": {},
   "outputs": [],
   "source": [
    "ipython_draw_svg(m)"
   ]
  },
  {
   "cell_type": "markdown",
   "metadata": {},
   "source": [
    "## Display all the maps available\n"
   ]
  },
  {
   "cell_type": "code",
   "execution_count": null,
   "metadata": {
    "scrolled": false
   },
   "outputs": [],
   "source": [
    "for map_name in dw.list_maps():\n",
    "    m1 = dw.load_map(map_name)\n",
    "    image = ipython_draw_svg(m1, 'out/' + map_name)\n",
    "    print(map_name)"
   ]
  },
  {
   "cell_type": "markdown",
   "metadata": {},
   "source": [
    "## Creating new maps\n",
    "\n",
    "Look for the '*.yaml' files in `duckietown_world` to get examples of data format.\n",
    "\n",
    "You can also define a new map \"inline\":"
   ]
  },
  {
   "cell_type": "code",
   "execution_count": null,
   "metadata": {
    "scrolled": true
   },
   "outputs": [],
   "source": [
    "map_data_yaml = \"\"\"\n",
    "\n",
    "# 3x3 tiles with left turns at the corners going in a counter-clockwise loop\n",
    "tiles:\n",
    "- [curve_left/W , straight/N, curve_left/N]\n",
    "- [straight/S   , asphalt   , straight/N]\n",
    "- [curve_left/S , straight/E, curve_left/E]\n",
    "\n",
    "\n",
    "\"\"\"\n",
    "\n",
    "import yaml\n",
    "\n",
    "map_data = yaml.load(map_data_yaml)\n",
    "\n",
    "m = dw.construct_map(map_data, tile_size=0.61)\n",
    "\n",
    "ipython_draw_svg(m);"
   ]
  },
  {
   "cell_type": "markdown",
   "metadata": {},
   "source": [
    "## Available tiles"
   ]
  },
  {
   "cell_type": "code",
   "execution_count": null,
   "metadata": {},
   "outputs": [],
   "source": [
    "map_data_yaml = \"\"\"\n",
    "\n",
    "# 3x3 tiles with left turns at the corners going in a counter-clockwise loop\n",
    "tiles:\n",
    "- [straight/N, straight/W, straight/S, straight/E]\n",
    "- [curve_left/N, curve_left/W, curve_left/S, curve_left/E]\n",
    "- [curve_right/N, curve_right/W, curve_right/S, curve_right/E]\n",
    "- [4way/N, 4way/W, 4way/S, 4way/E]\n",
    "- [3way_left/N, 3way_left/W, 3way_left/S, 3way_left/E]\n",
    "- [3way_right/N, 3way_right/W, 3way_right/S, 3way_right/E]\n",
    "\n",
    "\n",
    "\"\"\"\n",
    "\n",
    "import yaml\n",
    "\n",
    "map_data = yaml.load(map_data_yaml)\n",
    "\n",
    "m = dw.construct_map(map_data, tile_size=0.61)\n",
    "\n",
    "ipython_draw_svg(m);"
   ]
  }
 ],
 "metadata": {
  "kernelspec": {
   "display_name": "Python 3",
   "language": "python",
   "name": "python3"
  },
  "language_info": {
   "codemirror_mode": {
    "name": "ipython",
    "version": 3
   },
   "file_extension": ".py",
   "mimetype": "text/x-python",
   "name": "python",
   "nbconvert_exporter": "python",
   "pygments_lexer": "ipython3",
   "version": "3.7.2"
  }
 },
 "nbformat": 4,
 "nbformat_minor": 2
}
